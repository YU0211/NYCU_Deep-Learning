{
  "cells": [
    {
      "cell_type": "code",
      "execution_count": 33,
      "metadata": {
        "ExecuteTime": {
          "end_time": "2023-11-14T07:45:55.715194Z",
          "start_time": "2023-11-14T07:45:54.302999Z"
        },
        "id": "LogOdc06b_mB"
      },
      "outputs": [],
      "source": [
        "import torch as torch\n",
        "from torch import nn\n",
        "from torch.autograd import Variable as V\n",
        "import torch.nn.functional as F\n",
        "import torch.optim as optim\n",
        "import matplotlib.pyplot as plt\n",
        "from torch.utils.data import Dataset\n",
        "from torch.utils.data import DataLoader\n",
        "from torch import Tensor\n",
        "from torch import nn\n",
        "import os\n",
        "import json\n",
        "import random\n",
        "from nltk.translate.bleu_score import SmoothingFunction, sentence_bleu"
      ]
    },
    {
      "cell_type": "code",
      "source": [],
      "metadata": {
        "id": "zS3FERPKJl_r"
      },
      "execution_count": 33,
      "outputs": []
    },
    {
      "cell_type": "markdown",
      "metadata": {
        "id": "7qcFSlkLb_mD"
      },
      "source": [
        "### Paramereters"
      ]
    },
    {
      "cell_type": "code",
      "execution_count": 34,
      "metadata": {
        "id": "TiO39za0b_mE"
      },
      "outputs": [],
      "source": [
        "#----------Hyper Parameters----------#\n",
        "hidden_size = 512\n",
        "#The number of vocabulary\n",
        "vocab_size = 30\n",
        "teacher_forcing_ratio = 1.0\n",
        "LR = 0.05\n",
        "batch_size = 64\n",
        "output_size = 22\n",
        "embedding_length = 300\n",
        "EOS = 29\n",
        "SOS = 28\n",
        "pad_index=27\n",
        "device = torch.device('cuda' if torch.cuda.is_available() else 'cpu')\n"
      ]
    },
    {
      "cell_type": "markdown",
      "source": [
        "## Functions"
      ],
      "metadata": {
        "id": "t_cCVAwuCe4o"
      }
    },
    {
      "cell_type": "code",
      "execution_count": 35,
      "metadata": {
        "id": "987soruLb_mH"
      },
      "outputs": [],
      "source": [
        "def compute_bleu(output, reference):\n",
        "    cc = SmoothingFunction()\n",
        "    if len(reference) == 3:\n",
        "        weights = (0.33,0.33,0.33)\n",
        "    else:\n",
        "        weights = (0.25,0.25,0.25,0.25)\n",
        "    return sentence_bleu([reference], output,weights=weights,smoothing_function=cc.method1)"
      ]
    },
    {
      "cell_type": "code",
      "source": [
        "class Index2Char():\n",
        "    def __init__(self, char_to_index):\n",
        "        self.index_to_char = {index: char for char, index in char_to_index.items()}\n",
        "\n",
        "    def __call__(self, indices:list, without_token=True):\n",
        "        if type(indices) == Tensor:\n",
        "            indices = indices.tolist()\n",
        "        result =   ''.join(self.index_to_char.get(index, '') for index in indices)\n",
        "        if without_token:\n",
        "            result = result.split('<EOS>')[0]\n",
        "            result = result.replace('<SOS>', '').replace('<EOS>', '').replace('[pad]', '')\n",
        "        return result\n"
      ],
      "metadata": {
        "id": "lAeVCiqyCr2O"
      },
      "execution_count": 36,
      "outputs": []
    },
    {
      "cell_type": "code",
      "source": [
        "def metrics(pred:list, target:list) -> float:\n",
        "    \"\"\"\n",
        "    pred: list of strings\n",
        "    target: list of strings\n",
        "\n",
        "    return: accuracy(%)\n",
        "    \"\"\"\n",
        "    if len(pred) != len(target):\n",
        "        raise ValueError('length of pred and target must be the same')\n",
        "    correct = 0\n",
        "    for i in range(len(pred)):\n",
        "        if pred[i] == target[i]:\n",
        "            correct += 1\n",
        "    return correct / len(pred) * 100"
      ],
      "metadata": {
        "id": "wgjPXxbwX_QE"
      },
      "execution_count": 37,
      "outputs": []
    },
    {
      "cell_type": "code",
      "source": [
        "def printplot(setname,losses, accuarcys, bleus):\n",
        "  plt.figure(figsize=(12, 5))\n",
        "  plt.subplot(1, 3, 1)\n",
        "  plt.plot(losses,color='orange')\n",
        "  plt.xlabel('Epoch')\n",
        "  plt.ylabel(f'Average {setname} Loss')\n",
        "  plt.title(f'{setname} Loss Per Epoch')\n",
        "\n",
        "  plt.subplot(1, 3, 3)\n",
        "  plt.plot(bleus,color='orange')\n",
        "  plt.xlabel('Epoch')\n",
        "  plt.ylabel(f'Average {setname} BLEU Score')\n",
        "  plt.title(f'{setname} BLEU Score Per Epoch')\n",
        "\n",
        "  plt.subplot(1, 3, 2)\n",
        "  plt.plot(accuarcys,color='orange')\n",
        "  plt.xlabel('Epoch')\n",
        "  plt.ylabel(f'Average {setname} Accuracy %')\n",
        "  plt.title(f'{setname} Accuracy(%) Per Epoch')\n",
        "\n",
        "  plt.show()"
      ],
      "metadata": {
        "id": "IHRAASu1lyEv"
      },
      "execution_count": 38,
      "outputs": []
    },
    {
      "cell_type": "code",
      "execution_count": 39,
      "metadata": {
        "id": "_AdOJBMib_mE"
      },
      "outputs": [],
      "source": [
        "\n",
        "\n",
        "\n",
        "class SpellCorrectionDataset(Dataset):\n",
        "    def __init__(self, root, split='train', padding=0):\n",
        "        super(SpellCorrectionDataset, self).__init__()\n",
        "\n",
        "        self.char_to_index = self.build_char_to_index()\n",
        "        self.padding = padding\n",
        "        self.data = self.load_data(root, split)\n",
        "\n",
        "    def build_char_to_index(self):\n",
        "        # 创建字符到索引的映射\n",
        "        characters = 'abcdefghijklmnopqrstuvwxyz'\n",
        "        char_to_index = {char: i + 1 for i, char in enumerate(characters)}\n",
        "        char_to_index['<UNK>'] = len(char_to_index) + 1  # 未知字符\n",
        "        char_to_index['<SOS>'] = len(char_to_index) + 1  # 序列开始\n",
        "        char_to_index['<EOS>'] = len(char_to_index) + 1  # 序列结束\n",
        "        return char_to_index\n",
        "\n",
        "    def load_data(self, root, split):\n",
        "        # 加载 JSON 数据\n",
        "        filename = f'{root}/{split}.json'\n",
        "        with open(filename, 'r') as file:\n",
        "            data = json.load(file)\n",
        "        flattened_data = []\n",
        "        for item in data:\n",
        "            for inp in item[\"input\"]:\n",
        "                flattened_data.append((inp, item[\"target\"]))\n",
        "        return flattened_data\n",
        "\n",
        "    def tokenize(self, text):\n",
        "        # 将文本转换为索引\n",
        "         return [self.char_to_index['<SOS>']] + \\\n",
        "               [self.char_to_index.get(char, self.char_to_index['<UNK>']) for char in text] + \\\n",
        "               [self.char_to_index['<EOS>']]\n",
        "    def pad_sequence(self, sequence):\n",
        "        # 填充序列至固定长度\n",
        "        padded_sequence = sequence[:self.padding]\n",
        "        padded_sequence += [0] * (self.padding - len(padded_sequence))\n",
        "        return padded_sequence\n",
        "\n",
        "    def get_char_to_index(self):\n",
        "        # 返回已创建的 char_to_index 字典\n",
        "        return self.char_to_index\n",
        "    def __len__(self):\n",
        "        return len(self.data)\n",
        "\n",
        "    def __getitem__(self, index):\n",
        "        try:\n",
        "            item = self.data[index]\n",
        "            # 單詞分割\n",
        "            input_ids = self.tokenize(item[0])\n",
        "            target_ids = self.tokenize(item[1])\n",
        "            input_ids = self.pad_sequence(input_ids)\n",
        "            target_ids = self.pad_sequence(target_ids)\n",
        "\n",
        "\n",
        "        except KeyError as e:\n",
        "            print(f\"KeyError accessing data: {e}\")\n",
        "            print(f\"Data at index {index} is: {self.data[index]}\")\n",
        "            raise e\n",
        "        except Exception as e:\n",
        "            print(f\"An error occurred at index {index}: {e}\")\n",
        "            raise e\n",
        "        return torch.tensor(input_ids, dtype=torch.long), torch.tensor(target_ids, dtype=torch.long)"
      ]
    },
    {
      "cell_type": "markdown",
      "metadata": {
        "id": "pn2mJ1fAb_mE"
      },
      "source": [
        "## Dataset"
      ]
    },
    {
      "cell_type": "markdown",
      "metadata": {
        "id": "ZEPCWxkkb_mF"
      },
      "source": [
        "### Split Dataset"
      ]
    },
    {
      "cell_type": "code",
      "execution_count": 40,
      "metadata": {
        "colab": {
          "base_uri": "https://localhost:8080/"
        },
        "id": "u_CS5sivb_mF",
        "outputId": "d0c5de7c-17b8-41a3-c8a3-e519e92c908e"
      },
      "outputs": [
        {
          "output_type": "stream",
          "name": "stdout",
          "text": [
            "Train set :  12925\n",
            "Test set :  50\n",
            "Validation set :  50\n"
          ]
        }
      ],
      "source": [
        "# i2c = index2char('./data/')\n",
        "\n",
        "trainset = SpellCorrectionDataset('./data', split='train', padding=22)\n",
        "trainloader = DataLoader(trainset, batch_size, shuffle=True)\n",
        "testset = SpellCorrectionDataset('./data', split='test', padding=22)\n",
        "testloader = DataLoader(testset, batch_size, shuffle=False)\n",
        "valset = SpellCorrectionDataset('./data', split='new_test', padding=22)\n",
        "valloader = DataLoader(valset, batch_size, shuffle=False)\n",
        "device = torch.device('cuda' if torch.cuda.is_available() else 'cpu')\n",
        "char_to_index = trainset.build_char_to_index()\n",
        "\n",
        "ce_loss = nn.CrossEntropyLoss(ignore_index=0)\n",
        "print(\"Train set : \",len(trainset))\n",
        "print(\"Test set : \",len(testset))\n",
        "print(\"Validation set : \",len(valset))"
      ]
    },
    {
      "cell_type": "markdown",
      "metadata": {
        "id": "FEu481w-b_mG"
      },
      "source": [
        "## Encoder & Decoder"
      ]
    },
    {
      "cell_type": "code",
      "execution_count": 41,
      "metadata": {
        "id": "iOa7a1BWb_mG"
      },
      "outputs": [],
      "source": [
        "class EncoderRNN(nn.Module):\n",
        "    def __init__(self, input_size, hidden_size):\n",
        "        super(EncoderRNN, self).__init__()\n",
        "        self.hidden_size = hidden_size\n",
        "        self.lstm = nn.LSTM(embedding_length,hidden_size)\n",
        "        # self.hidden = self.initHidden()\n",
        "    def forward(self, input):\n",
        "        output, hidden = self.lstm(input)\n",
        "        return output, hidden\n",
        "\n",
        "    def initHidden(self):\n",
        "        empty = torch.zeros(1,batch_size, self.hidden_size, device=device)\n",
        "        return (empty,empty)"
      ]
    },
    {
      "cell_type": "code",
      "execution_count": 42,
      "metadata": {
        "id": "621-dfq5b_mG"
      },
      "outputs": [],
      "source": [
        "class DecoderRNN(nn.Module):\n",
        "    def __init__(self, hidden_size, output_size,num_layers=1):\n",
        "        super(DecoderRNN, self).__init__()\n",
        "        self.hidden_size = hidden_size\n",
        "        self.num_layers = num_layers\n",
        "        self.embedding = nn.Embedding(output_size, hidden_size)\n",
        "        self.lstm = nn.LSTM(input_size = output_size, hidden_size = hidden_size,\n",
        "                            num_layers=num_layers)\n",
        "        self.out = nn.Linear(hidden_size, vocab_size)\n",
        "        # self.softmax = nn.LogSoftmax(dim=1)\n",
        "    def forward(self, input, hidden):\n",
        "        # output = self.embedding(input).view(1, 1, -1)\n",
        "        output = F.relu(input)\n",
        "        output, hidden = self.lstm(output, hidden)\n",
        "        output = self.out(output[0])\n",
        "        return output, hidden\n",
        "\n"
      ]
    },
    {
      "cell_type": "markdown",
      "metadata": {
        "id": "hSMhMpBJb_mH"
      },
      "source": [
        "## Define Model"
      ]
    },
    {
      "cell_type": "code",
      "execution_count": 43,
      "metadata": {
        "id": "0jl3AYBsb_mH"
      },
      "outputs": [],
      "source": [
        "num_inputs = vocab_size\n",
        "# lstm_layer = nn.LSTM(embedding_length,num_inputs, hidden_size)\n",
        "#model = d2l.RNNModel(lstm_layer, vocab_size)\n",
        "class LSTM (nn.Module):\n",
        "    def __init__(self,vocab_size, embedding_length, hidden_size, output_size):\n",
        "        super(LSTM, self).__init__()\n",
        "        self.embedding = nn.Embedding(vocab_size, embedding_length)\n",
        "        self.lstm_encoder = EncoderRNN(num_inputs,hidden_size)\n",
        "        self.lstm_decoder = DecoderRNN(hidden_size,embedding_length)\n",
        "        self.i2c = Index2Char(char_to_index)\n",
        "        self.de_embedding = nn.Embedding(vocab_size, embedding_length)\n",
        "\n",
        "\n",
        "    def forward(self, input_tensor, tgt_tensor=None, teacher_forcing_ratio=0.5,log=True):\n",
        "\n",
        "        input = self.embedding(input_tensor).to(device)\n",
        "        tgt = self.embedding(tgt_tensor).to(device)\n",
        "        tgt = tgt.permute(1, 0, 2)\n",
        "        input = input.permute(1, 0, 2)\n",
        "\n",
        "        encoder_output, encoder_hidden = self.lstm_encoder(input)\n",
        "        decoder_input = input[0,:,:].unsqueeze(0)  # 提取每个序列的第一个词并增加维度\n",
        "        decoder_hidden = encoder_hidden\n",
        "\n",
        "        outputs = []\n",
        "        pre_str = []\n",
        "\n",
        "        target_length = tgt.size(0)\n",
        "\n",
        "        for i in range(target_length-1):  # 假设 target_length 已定义\n",
        "            decoder_output, decoder_hidden = self.lstm_decoder(decoder_input, decoder_hidden)\n",
        "\n",
        "            character_probs = F.log_softmax(decoder_output, dim=-1)\n",
        "            pred = character_probs.argmax(dim=-1)\n",
        "            outputs.append(character_probs)\n",
        "            decoder_input = self.de_embedding(pred).unsqueeze(0)\n",
        "            if i == target_length-1:\n",
        "                break\n",
        "            if (random.random() < teacher_forcing_ratio) :\n",
        "                decoder_input = tgt[i+1,:,:].unsqueeze(0)  # Teacher Forcing\n",
        "        batch_bleu_scores = []\n",
        "\n",
        "        outputs = torch.stack(outputs, dim=0)\n",
        "        # print('stack',outputs.shape)\n",
        "        pred_str_list,tgt_str_list=[],[]\n",
        "        # print(outputs.size(1))\n",
        "\n",
        "        total_accuracy = 0\n",
        "        for i in range(outputs.size(1)):\n",
        "            indices = outputs[:,i,:].argmax(dim=-1)\n",
        "\n",
        "            pred_str = self.i2c(indices)\n",
        "            pred_str_list.append(pred_str)\n",
        "            reference_indices = tgt_tensor[i, :]\n",
        "            reference_str= self.i2c(reference_indices)\n",
        "            tgt_str_list.append(reference_str)\n",
        "\n",
        "            bleu_score = compute_bleu(pred_str, reference_str)\n",
        "            batch_bleu_scores.append(bleu_score)\n",
        "            batch_accuracy = metrics(pred_str_list, tgt_str_list)\n",
        "            total_accuracy += batch_accuracy\n",
        "            # print(batch_accuracy)\n",
        "        if log :\n",
        "          max_length = max(len(max(pred_str_list, key=len)), len(max(tgt_str_list, key=len)))\n",
        "          for i in range(len(pred_str_list)):\n",
        "            print(f'pred: {pred_str_list[i]:<{max_length}} target: {tgt_str_list[i]:<{max_length}}')\n",
        "        avg_bleu = sum(batch_bleu_scores)/len(batch_bleu_scores)\n",
        "        avg_train_accuracy = total_accuracy / outputs.size(1)\n",
        "        # avg_batch_acc = batch_accuracy/len\n",
        "        # print(avg_train_accuracy)\n",
        "        # print(avg_bleu)\n",
        "        #\n",
        "        return outputs,avg_train_accuracy,avg_bleu\n",
        "\n"
      ]
    },
    {
      "cell_type": "code",
      "execution_count": 44,
      "metadata": {
        "id": "kOOx6OZ-b_mH"
      },
      "outputs": [],
      "source": [
        "#lstm = nn.LSTM(22,hidden_size,num_layers)"
      ]
    },
    {
      "cell_type": "markdown",
      "metadata": {
        "id": "LgsxZ6o2b_mH"
      },
      "source": [
        "## Train & Test"
      ]
    },
    {
      "cell_type": "code",
      "execution_count": 45,
      "metadata": {
        "id": "H0pALVtFb_mH"
      },
      "outputs": [],
      "source": [
        "loss_fn = nn.CrossEntropyLoss(ignore_index=pad_index)\n",
        "model = LSTM(vocab_size, embedding_length, hidden_size, output_size)\n",
        "model = model.to(device)\n",
        "optimizer = optim.Adam(model.parameters(),lr=1e-4)\n",
        "\n",
        "def train(model, trainloader, num_epochs=10):\n",
        "    loss = 0\n",
        "    avg_losses = []\n",
        "    bleus = []\n",
        "    accs = []\n",
        "\n",
        "    graph_acc=[]\n",
        "    graph_loss=[]\n",
        "    graph_bleu=[]\n",
        "    test_bleus =[]\n",
        "    # model.train()\n",
        "    for epoch in range(num_epochs):\n",
        "        model.train()\n",
        "        total_loss = 0\n",
        "        for src, tgt in trainloader:\n",
        "            src, tgt  = src.long().to(device), tgt.long().to(device)\n",
        "            output,acc, bleu = model(src, tgt,log=False)\n",
        "            # print('output',output.shape,'swap',output.permute(1,2,0).shape)\n",
        "            output = output.permute(1,2,0)\n",
        "            # print('tgt',tgt.shape)\n",
        "            # 正向傳播\n",
        "            optimizer.zero_grad()\n",
        "            tgt=tgt[:,1:]\n",
        "            loss = loss_fn(output, tgt)\n",
        "            loss.backward()\n",
        "            optimizer.step()\n",
        "\n",
        "            total_loss += loss.item()\n",
        "            accs.append(acc)\n",
        "            bleus.append(bleu)\n",
        "\n",
        "        average_loss = total_loss / len(trainloader)\n",
        "        avg_losses.append(average_loss)\n",
        "        avg_acc = sum(accs)/len(accs)\n",
        "        avg_bleu = sum(bleus)/len(bleus)\n",
        "\n",
        "        graph_acc.append(avg_acc)\n",
        "        graph_loss.append(average_loss)\n",
        "        graph_bleu.append(avg_bleu)\n",
        "        # print(f'Epoch {epoch+1}/{num_epochs}, Loss: '\n",
        "        test_acc, test_loss, test_bleu = eval_model(model, testloader,log = False)\n",
        "        test_bleus.append(test_bleu)\n",
        "        print(f'Epoch {epoch+1}/{num_epochs}, Loss: {average_loss}, Acc:{avg_acc}')\n",
        "\n",
        "\n",
        "    return graph_acc,graph_loss,graph_bleu,test_bleus"
      ]
    },
    {
      "cell_type": "code",
      "execution_count": 46,
      "metadata": {
        "id": "83OO7cYUb_mI"
      },
      "outputs": [],
      "source": [
        "def eval_model(model, dataloader,log):\n",
        "    total_epoch_loss = 0\n",
        "    total_epoch_acc = 0\n",
        "    model.eval()\n",
        "    loss = 0\n",
        "    avg_losses = []\n",
        "    bleus = []\n",
        "    accs = []\n",
        "\n",
        "    graph_acc=[]\n",
        "    graph_loss=[]\n",
        "    graph_bleu=[]\n",
        "    with torch.no_grad():\n",
        "\n",
        "      total_loss = 0\n",
        "      for src, tgt in dataloader:\n",
        "          src, tgt  = src.long().to(device), tgt.long().to(device)\n",
        "          output,acc, bleu = model(src, tgt,log=log)\n",
        "          output = output.permute(1,2,0)\n",
        "          tgt=tgt[:,1:]\n",
        "          loss = loss_fn(output, tgt)\n",
        "\n",
        "          total_loss += loss.item()\n",
        "          accs.append(acc)\n",
        "          bleus.append(bleu)\n",
        "\n",
        "      average_loss = total_loss / len(dataloader)\n",
        "      avg_losses.append(average_loss)\n",
        "      avg_acc = sum(accs)/len(accs)\n",
        "      avg_bleu = sum(bleus)/len(bleus)\n",
        "\n",
        "      # graph_acc.append(avg_acc)\n",
        "      # graph_loss.append(average_loss)\n",
        "      # graph_bleu.append(avg_bleu)\n",
        "\n",
        "      return  avg_acc, average_loss, avg_bleu"
      ]
    },
    {
      "cell_type": "markdown",
      "source": [
        "## Main"
      ],
      "metadata": {
        "id": "DteXvgE1sy2X"
      }
    },
    {
      "cell_type": "code",
      "execution_count": 47,
      "metadata": {
        "colab": {
          "base_uri": "https://localhost:8080/"
        },
        "id": "UD8mcOBnb_mH",
        "outputId": "35efa03e-3c50-45a4-a6f4-9b00e65266dd"
      },
      "outputs": [
        {
          "output_type": "stream",
          "name": "stdout",
          "text": [
            "Epoch 1/200, Loss: 1.4026015253350286, Acc:0.0\n",
            "Epoch 2/200, Loss: 1.0628137871770575, Acc:0.004248654853585393\n",
            "Epoch 3/200, Loss: 1.0110370457762539, Acc:0.002832436569056928\n",
            "Epoch 4/200, Loss: 0.9253180121431256, Acc:0.014430983951257402\n",
            "Epoch 5/200, Loss: 0.8197163564733939, Acc:0.056364155258717505\n",
            "Epoch 6/200, Loss: 0.7265339959966074, Acc:0.1390364303936059\n",
            "Epoch 7/200, Loss: 0.6450639013016578, Acc:0.2684214503738183\n",
            "Epoch 8/200, Loss: 0.588682157420876, Acc:0.4789357577347478\n",
            "Epoch 9/200, Loss: 0.5417837916624428, Acc:0.7546213233137575\n",
            "Epoch 10/200, Loss: 0.5181529207689928, Acc:1.1016950052960015\n",
            "Epoch 11/200, Loss: 0.48455164839725684, Acc:1.416294789318907\n",
            "Epoch 12/200, Loss: 0.4676303341247068, Acc:1.7751316636860508\n",
            "Epoch 13/200, Loss: 0.4524995011858421, Acc:2.142738099898534\n",
            "Epoch 14/200, Loss: 0.4319783570152698, Acc:2.5808669420674177\n",
            "Epoch 15/200, Loss: 0.4169978061229876, Acc:3.0344209258145938\n",
            "Epoch 16/200, Loss: 0.40449559201698493, Acc:3.461568821368112\n",
            "Epoch 17/200, Loss: 0.38971296218362184, Acc:3.9429927404670417\n",
            "Epoch 18/200, Loss: 0.37290902081692573, Acc:4.428694611789442\n",
            "Epoch 19/200, Loss: 0.36621326694984246, Acc:4.936615181374897\n",
            "Epoch 20/200, Loss: 0.3553506928210211, Acc:5.465707890633373\n",
            "Epoch 21/200, Loss: 0.339544905810663, Acc:6.0487272449711265\n",
            "Epoch 22/200, Loss: 0.32599903340681946, Acc:6.656600372674321\n",
            "Epoch 23/200, Loss: 0.32205029016379083, Acc:7.2464260866389365\n",
            "Epoch 24/200, Loss: 0.308074849445631, Acc:7.900905028891737\n",
            "Epoch 25/200, Loss: 0.29997071778715245, Acc:8.514025498893478\n",
            "Epoch 26/200, Loss: 0.28802262239231924, Acc:9.181596874360926\n",
            "Epoch 27/200, Loss: 0.27692224926287584, Acc:9.811927919128768\n",
            "Epoch 28/200, Loss: 0.27038379979900795, Acc:10.50620477628665\n",
            "Epoch 29/200, Loss: 0.2647742685852664, Acc:11.168176916375648\n",
            "Epoch 30/200, Loss: 0.2504420800521822, Acc:11.872223661698136\n",
            "Epoch 31/200, Loss: 0.2446859706894006, Acc:12.596912973517325\n",
            "Epoch 32/200, Loss: 0.23783718890482836, Acc:13.312340812567406\n",
            "Epoch 33/200, Loss: 0.226243093093433, Acc:14.010087582736126\n",
            "Epoch 34/200, Loss: 0.21961286759907656, Acc:14.741142428097376\n",
            "Epoch 35/200, Loss: 0.2070313731927683, Acc:15.48388276789659\n",
            "Epoch 36/200, Loss: 0.20541811564771256, Acc:16.24134952024086\n",
            "Epoch 37/200, Loss: 0.19066173325080682, Acc:17.0231918306523\n",
            "Epoch 38/200, Loss: 0.18807659102696003, Acc:17.76969494525351\n",
            "Epoch 39/200, Loss: 0.17928365702823837, Acc:18.522759954506114\n",
            "Epoch 40/200, Loss: 0.16692523451724856, Acc:19.300584631617884\n",
            "Epoch 41/200, Loss: 0.16425760090351105, Acc:20.068743849577668\n",
            "Epoch 42/200, Loss: 0.1590505419022376, Acc:20.838346947157447\n",
            "Epoch 43/200, Loss: 0.1558604895478428, Acc:21.60415258975347\n",
            "Epoch 44/200, Loss: 0.14788083986628173, Acc:22.392314096015546\n",
            "Epoch 45/200, Loss: 0.13737794790085, Acc:23.206613540100527\n",
            "Epoch 46/200, Loss: 0.13471941483935507, Acc:23.9990845523304\n",
            "Epoch 47/200, Loss: 0.1293997655041737, Acc:24.794840425877023\n",
            "Epoch 48/200, Loss: 0.12393960238683342, Acc:25.584148880314043\n",
            "Epoch 49/200, Loss: 0.11744201286594466, Acc:26.393193564052304\n",
            "Epoch 50/200, Loss: 0.11367480862553757, Acc:27.161598561227294\n",
            "Epoch 51/200, Loss: 0.10935618604837667, Acc:27.930440377727265\n",
            "Epoch 52/200, Loss: 0.10296346549645509, Acc:28.69225106788126\n",
            "Epoch 53/200, Loss: 0.10024100556822106, Acc:29.460125896347158\n",
            "Epoch 54/200, Loss: 0.09212234411573056, Acc:30.229517436156684\n",
            "Epoch 55/200, Loss: 0.09133649296542205, Acc:30.98903224247378\n",
            "Epoch 56/200, Loss: 0.08958514770585121, Acc:31.70399309962906\n",
            "Epoch 57/200, Loss: 0.08218273297321088, Acc:32.45884171618234\n",
            "Epoch 58/200, Loss: 0.08208713687882566, Acc:33.16986573973172\n",
            "Epoch 59/200, Loss: 0.07686547580922004, Acc:33.8945396531523\n",
            "Epoch 60/200, Loss: 0.07455853116468038, Acc:34.61209464098381\n",
            "Epoch 61/200, Loss: 0.07152278843049956, Acc:35.320262924445544\n",
            "Epoch 62/200, Loss: 0.07055684042596581, Acc:36.00544265541218\n",
            "Epoch 63/200, Loss: 0.06986796485241686, Acc:36.67994802158531\n",
            "Epoch 64/200, Loss: 0.06535315074690498, Acc:37.35050666724374\n",
            "Epoch 65/200, Loss: 0.06379778823345014, Acc:38.002221159571384\n",
            "Epoch 66/200, Loss: 0.06266104649420422, Acc:38.64487144070124\n",
            "Epoch 67/200, Loss: 0.05925689999124791, Acc:39.286389532170894\n",
            "Epoch 68/200, Loss: 0.055757022637984544, Acc:39.931148735140994\n",
            "Epoch 69/200, Loss: 0.055325289994551996, Acc:40.55858191863268\n",
            "Epoch 70/200, Loss: 0.05390796457223668, Acc:41.162488482395766\n",
            "Epoch 71/200, Loss: 0.053223157024914675, Acc:41.76278621976164\n",
            "Epoch 72/200, Loss: 0.05010891190296648, Acc:42.35604845854139\n",
            "Epoch 73/200, Loss: 0.052532743459733404, Acc:42.93319335396494\n",
            "Epoch 74/200, Loss: 0.04937568421263506, Acc:43.50007995985808\n",
            "Epoch 75/200, Loss: 0.04694806076217406, Acc:44.05659437400245\n",
            "Epoch 76/200, Loss: 0.04939454587379304, Acc:44.591857948933985\n",
            "Epoch 77/200, Loss: 0.04683944254670993, Acc:45.11906198101194\n",
            "Epoch 78/200, Loss: 0.046657449611932925, Acc:45.63511118136233\n",
            "Epoch 79/200, Loss: 0.042170767902885334, Acc:46.155770803094796\n",
            "Epoch 80/200, Loss: 0.040298088149416565, Acc:46.6681200534834\n",
            "Epoch 81/200, Loss: 0.0407908626251144, Acc:47.16759279133428\n",
            "Epoch 82/200, Loss: 0.03982384243777188, Acc:47.659558959213705\n",
            "Epoch 83/200, Loss: 0.043164196364249625, Acc:48.123639494676084\n",
            "Epoch 84/200, Loss: 0.03958801643480316, Acc:48.5888690269945\n",
            "Epoch 85/200, Loss: 0.036872940031940686, Acc:49.05078368074256\n",
            "Epoch 86/200, Loss: 0.037300070056156945, Acc:49.49975169817658\n",
            "Epoch 87/200, Loss: 0.03714887295287139, Acc:49.94160413459315\n",
            "Epoch 88/200, Loss: 0.036929625224801574, Acc:50.370035337923\n",
            "Epoch 89/200, Loss: 0.03562531401264933, Acc:50.79822849299129\n",
            "Epoch 90/200, Loss: 0.03761390933656309, Acc:51.216441166683\n",
            "Epoch 91/200, Loss: 0.03467003119150453, Acc:51.62280871915326\n",
            "Epoch 92/200, Loss: 0.034610886140588194, Acc:52.022896228504266\n",
            "Epoch 93/200, Loss: 0.03227478016794908, Acc:52.41561619316459\n",
            "Epoch 94/200, Loss: 0.03415345020665981, Acc:52.807045155695725\n",
            "Epoch 95/200, Loss: 0.035057787599023615, Acc:53.18065172344778\n",
            "Epoch 96/200, Loss: 0.0340146820180782, Acc:53.55419627036692\n",
            "Epoch 97/200, Loss: 0.03494994026968385, Acc:53.90904178076712\n",
            "Epoch 98/200, Loss: 0.0355846504496392, Acc:54.26151853709694\n",
            "Epoch 99/200, Loss: 0.033135832278150146, Acc:54.60680714487758\n",
            "Epoch 100/200, Loss: 0.030304413657672336, Acc:54.950561507272944\n",
            "Epoch 101/200, Loss: 0.03150534871412386, Acc:55.29386707194071\n",
            "Epoch 102/200, Loss: 0.03218166048334229, Acc:55.625798922788434\n",
            "Epoch 103/200, Loss: 0.029187372055753034, Acc:55.958790186131885\n",
            "Epoch 104/200, Loss: 0.029252980125717597, Acc:56.28168024503062\n",
            "Epoch 105/200, Loss: 0.030475296227648708, Acc:56.59508195956953\n",
            "Epoch 106/200, Loss: 0.030827531365142897, Acc:56.901274317194606\n",
            "Epoch 107/200, Loss: 0.03092866853377459, Acc:57.20058377646442\n",
            "Epoch 108/200, Loss: 0.030411295519016758, Acc:57.49598317381665\n",
            "Epoch 109/200, Loss: 0.027915102747813014, Acc:57.792026348764104\n",
            "Epoch 110/200, Loss: 0.026751215251549932, Acc:58.08220208053128\n",
            "Epoch 111/200, Loss: 0.029017048164058735, Acc:58.368812039215655\n",
            "Epoch 112/200, Loss: 0.02892111424393583, Acc:58.64506076491099\n",
            "Epoch 113/200, Loss: 0.029069455405051757, Acc:58.911882097547974\n",
            "Epoch 114/200, Loss: 0.02887985486961385, Acc:59.18177417064525\n",
            "Epoch 115/200, Loss: 0.02922208005756066, Acc:59.44459306007867\n",
            "Epoch 116/200, Loss: 0.029868990745358537, Acc:59.70323862308943\n",
            "Epoch 117/200, Loss: 0.02649379120263649, Acc:59.96146026481015\n",
            "Epoch 118/200, Loss: 0.027604949268706068, Acc:60.21757844883212\n",
            "Epoch 119/200, Loss: 0.026718417544489597, Acc:60.46262761541716\n",
            "Epoch 120/200, Loss: 0.025749425389942262, Acc:60.71134035637138\n",
            "Epoch 121/200, Loss: 0.026982260125661545, Acc:60.956755416349665\n",
            "Epoch 122/200, Loss: 0.026859309750212595, Acc:61.195006164765594\n",
            "Epoch 123/200, Loss: 0.027420666686600387, Acc:61.425764542935504\n",
            "Epoch 124/200, Loss: 0.025883416958743393, Acc:61.65820953262701\n",
            "Epoch 125/200, Loss: 0.027428858261094383, Acc:61.887473375593366\n",
            "Epoch 126/200, Loss: 0.026264191964770308, Acc:62.10701883661226\n",
            "Epoch 127/200, Loss: 0.023786821158252435, Acc:62.33076357422392\n",
            "Epoch 128/200, Loss: 0.023899738697593313, Acc:62.55493377434027\n",
            "Epoch 129/200, Loss: 0.02532630616863544, Acc:62.76850183027602\n",
            "Epoch 130/200, Loss: 0.024466021830160722, Acc:62.97810255483701\n",
            "Epoch 131/200, Loss: 0.024610551977806754, Acc:63.188352220251986\n",
            "Epoch 132/200, Loss: 0.023271378378688107, Acc:63.39402997764237\n",
            "Epoch 133/200, Loss: 0.02272689546513749, Acc:63.59544651930573\n",
            "Epoch 134/200, Loss: 0.02416321107804185, Acc:63.7948470957677\n",
            "Epoch 135/200, Loss: 0.024789078772012696, Acc:63.98909336092068\n",
            "Epoch 136/200, Loss: 0.024250007953752976, Acc:64.17960437368914\n",
            "Epoch 137/200, Loss: 0.023500210375036343, Acc:64.36790179635152\n",
            "Epoch 138/200, Loss: 0.025132121105613834, Acc:64.55075922932534\n",
            "Epoch 139/200, Loss: 0.026442450526548495, Acc:64.72986686933567\n",
            "Epoch 140/200, Loss: 0.0227244216579907, Acc:64.91308473350006\n",
            "Epoch 141/200, Loss: 0.022622248091006485, Acc:65.09592929503557\n",
            "Epoch 142/200, Loss: 0.02270005271299788, Acc:65.27714310614293\n",
            "Epoch 143/200, Loss: 0.02462033176619449, Acc:65.45244140476184\n",
            "Epoch 144/200, Loss: 0.024938569616268176, Acc:65.61674886662351\n",
            "Epoch 145/200, Loss: 0.0232402410053897, Acc:65.78854037299492\n",
            "Epoch 146/200, Loss: 0.02200908918800478, Acc:65.9600050041139\n",
            "Epoch 147/200, Loss: 0.02286840306530421, Acc:66.12227207715665\n",
            "Epoch 148/200, Loss: 0.022445336108713753, Acc:66.28354754706984\n",
            "Epoch 149/200, Loss: 0.022917574181654812, Acc:66.44426631855488\n",
            "Epoch 150/200, Loss: 0.02268990122316645, Acc:66.60527912084513\n",
            "Epoch 151/200, Loss: 0.020951777032696375, Acc:66.76564522620308\n",
            "Epoch 152/200, Loss: 0.021372289908588818, Acc:66.92236431217644\n",
            "Epoch 153/200, Loss: 0.023547232517566862, Acc:67.07095393797326\n",
            "Epoch 154/200, Loss: 0.024235522049469965, Acc:67.21365558323006\n",
            "Epoch 155/200, Loss: 0.020350194218024465, Acc:67.3623600295051\n",
            "Epoch 156/200, Loss: 0.021432363218397345, Acc:67.50846394428419\n",
            "Epoch 157/200, Loss: 0.0195772957776, Acc:67.65583179563033\n",
            "Epoch 158/200, Loss: 0.022168784243248328, Acc:67.79872189542715\n",
            "Epoch 159/200, Loss: 0.022706548694871587, Acc:67.93657382933806\n",
            "Epoch 160/200, Loss: 0.02236271955736793, Acc:68.07427715882247\n",
            "Epoch 161/200, Loss: 0.020080942531475927, Acc:68.21155780243804\n",
            "Epoch 162/200, Loss: 0.021410687570690666, Acc:68.34939119511829\n",
            "Epoch 163/200, Loss: 0.021497583304909935, Acc:68.48307580783568\n",
            "Epoch 164/200, Loss: 0.02137943185257292, Acc:68.61512568462108\n",
            "Epoch 165/200, Loss: 0.02115442953533539, Acc:68.74637565442939\n",
            "Epoch 166/200, Loss: 0.0204772697254499, Acc:68.87537441040517\n",
            "Epoch 167/200, Loss: 0.021283430287079647, Acc:69.0024467055709\n",
            "Epoch 168/200, Loss: 0.020725487364861784, Acc:69.12950171415824\n",
            "Epoch 169/200, Loss: 0.01973260785821862, Acc:69.25037243209589\n",
            "Epoch 170/200, Loss: 0.02056746392759799, Acc:69.37302687667264\n",
            "Epoch 171/200, Loss: 0.0205300699200223, Acc:69.49934382969784\n",
            "Epoch 172/200, Loss: 0.02143464615743718, Acc:69.62024510891372\n",
            "Epoch 173/200, Loss: 0.022063667952811512, Acc:69.73654515841228\n",
            "Epoch 174/200, Loss: 0.022599795565820566, Acc:69.85059712993296\n",
            "Epoch 175/200, Loss: 0.02375509627025095, Acc:69.96350694471613\n",
            "Epoch 176/200, Loss: 0.02019055891035143, Acc:70.07990229989062\n",
            "Epoch 177/200, Loss: 0.019234800100381866, Acc:70.19536280991586\n",
            "Epoch 178/200, Loss: 0.019194672799364914, Acc:70.3107596893062\n",
            "Epoch 179/200, Loss: 0.019158939879369175, Acc:70.42265488246242\n",
            "Epoch 180/200, Loss: 0.019140802031050962, Acc:70.53468105492288\n",
            "Epoch 181/200, Loss: 0.02074605667281269, Acc:70.63995312828268\n",
            "Epoch 182/200, Loss: 0.020162800817962477, Acc:70.74664963823888\n",
            "Epoch 183/200, Loss: 0.019808817744753, Acc:70.85344245116512\n",
            "Epoch 184/200, Loss: 0.018876239293171924, Acc:70.9584292223261\n",
            "Epoch 185/200, Loss: 0.020236405834444974, Acc:71.06368381035337\n",
            "Epoch 186/200, Loss: 0.018686232763333338, Acc:71.16516598649811\n",
            "Epoch 187/200, Loss: 0.018417427740474737, Acc:71.26422143102644\n",
            "Epoch 188/200, Loss: 0.02009657348764341, Acc:71.36260096079847\n",
            "Epoch 189/200, Loss: 0.018847896823530445, Acc:71.46490909618423\n",
            "Epoch 190/200, Loss: 0.01974134937062454, Acc:71.56461324193224\n",
            "Epoch 191/200, Loss: 0.020867226412519813, Acc:71.66109022929659\n",
            "Epoch 192/200, Loss: 0.02064371490297784, Acc:71.7569001618059\n",
            "Epoch 193/200, Loss: 0.019054665977116858, Acc:71.85205977502001\n",
            "Epoch 194/200, Loss: 0.018285849576557774, Acc:71.94735036079295\n",
            "Epoch 195/200, Loss: 0.01948018531582438, Acc:72.03787969664279\n",
            "Epoch 196/200, Loss: 0.018980149961178108, Acc:72.13211311228882\n",
            "Epoch 197/200, Loss: 0.020621481612048083, Acc:72.22441170016238\n",
            "Epoch 198/200, Loss: 0.02435453242442506, Acc:72.30872969711871\n",
            "Epoch 199/200, Loss: 0.026595395150603635, Acc:72.38750346850048\n",
            "Epoch 200/200, Loss: 0.018086598214398297, Acc:72.47749933220096\n",
            "pred: appreciate    target: appreciate   \n",
            "pred: appreciate    target: appreciate   \n",
            "pred: appreciate    target: appreciate   \n",
            "pred: approciate    target: appreciate   \n",
            "pred: appreciate    target: appreciate   \n",
            "pred: leve          target: love         \n",
            "pred: cull          target: cold         \n",
            "pred: hert          target: heart        \n",
            "pred: televislon    target: television   \n",
            "pred: phone         target: phone        \n",
            "pred: phacce        target: phase        \n",
            "pred: poom          target: poem         \n",
            "pred: tomorraw      target: tomorrow     \n",
            "pred: presician     target: precision    \n",
            "pred: precision     target: precision    \n",
            "pred: presiaion     target: precision    \n",
            "pred: presitton     target: precision    \n",
            "pred: prever        target: prefer       \n",
            "pred: preguduce     target: prejudice    \n",
            "pred: peagudiss     target: prejudice    \n",
            "pred: receiver      target: receiver     \n",
            "pred: receiver      target: receiver     \n",
            "pred: relieve       target: relief       \n",
            "pred: togather      target: together     \n",
            "pred: remittance    target: remittance   \n",
            "pred: deposit       target: deposit      \n",
            "pred: deporstt      target: deposit      \n",
            "pred: pepper        target: pepper       \n",
            "pred: pprpere       target: pepper       \n",
            "pred: employ        target: employee     \n",
            "pred: explols       target: employee     \n",
            "pred: beast         target: best         \n",
            "pred: peast         target: best         \n",
            "pred: aspet         target: best         \n",
            "pred: feature       target: feature      \n",
            "pred: faiture       target: feature      \n",
            "pred: feattee       target: feature      \n",
            "pred: gorgeous      target: gorgeous     \n",
            "pred: goarouus      target: gorgeous     \n",
            "pred: gorgalue      target: gorgeous     \n",
            "pred: grip          target: grip         \n",
            "pred: heinous       target: heinous      \n",
            "pred: purple        target: purple       \n",
            "pred: occasional    target: occasional   \n",
            "pred: triumph       target: triumph      \n",
            "pred: triumph       target: triumph      \n",
            "pred: unfurgaaabble target: unforgettable\n",
            "pred: unfergaaaable target: unforgettable\n",
            "pred: visible       target: visible      \n",
            "pred: visible       target: visible      \n",
            "pred: contipptd        target: contented       \n",
            "pred: leginning        target: beginning       \n",
            "pred: problem          target: problem         \n",
            "pred: driven           target: driven          \n",
            "pred: ecstasy          target: ecstasy         \n",
            "pred: jusce            target: juice           \n",
            "pred: locally          target: locally         \n",
            "pred: compare          target: compare         \n",
            "pred: pronunciation    target: pronunciation   \n",
            "pred: transportability target: transportability\n",
            "pred: minuscule        target: minuscule       \n",
            "pred: independent      target: independent     \n",
            "pred: arranged         target: arranged        \n",
            "pred: porrty           target: poetry          \n",
            "pred: level            target: level           \n",
            "pred: basically        target: basically       \n",
            "pred: triangular       target: triangular      \n",
            "pred: unexpected       target: unexpected      \n",
            "pred: standardizing    target: standardizing   \n",
            "pred: variable         target: variable        \n",
            "pred: neighborrs       target: neighbours      \n",
            "pred: next             target: next            \n",
            "pred: powerful         target: powerful        \n",
            "pred: practical        target: practical       \n",
            "pred: repettition      target: repartition     \n",
            "pred: repentance       target: repentance      \n",
            "pred: subtracts        target: subtracts       \n",
            "pred: bead             target: bead            \n",
            "pred: beam             target: beam            \n",
            "pred: deceive          target: deceive         \n",
            "pred: decent           target: decent          \n",
            "pred: dog              target: dog             \n",
            "pred: donng            target: doing           \n",
            "pred: expense          target: expense         \n",
            "pred: fierce           target: fierce          \n",
            "pred: fiery            target: fiery           \n",
            "pred: fort             target: fort            \n",
            "pred: forth            target: forth           \n",
            "pred: hirm             target: harm            \n",
            "pred: harvest          target: harvest         \n",
            "pred: immediately      target: immediately     \n",
            "pred: inexhaustible    target: inexhaustible   \n",
            "pred: journal          target: journal         \n",
            "pred: lesson           target: lesson          \n",
            "pred: maintain         target: maintain        \n",
            "pred: miracle          target: miracle         \n",
            "pred: opportunity      target: opportunity     \n",
            "pred: parenthesis      target: parenthesis     \n",
            "pred: recession        target: recession       \n",
            "pred: schedule         target: schedule        \n"
          ]
        }
      ],
      "source": [
        "num_epochs = 200\n",
        "train_acc, train_loss, train_bleu,train_test_bleu = train(model,trainloader,num_epochs)\n",
        "val_acc, val_loss, val_bleu = eval_model(model, valloader,log =True)\n",
        "test_acc, test_loss, test_bleu = eval_model(model, testloader,log =True)\n",
        "# plt.plot(train_test_bleu,color='orange')"
      ]
    },
    {
      "cell_type": "code",
      "source": [
        "print(f'Train accuarcy:{train_acc[-1]}, Train loss:{train_loss[-1]},Train bleu:{train_bleu[-1]}' )\n",
        "print(f'Test accuracy: {test_acc}, Test loss: {test_loss}, Test bleu: {test_bleu}')\n",
        "print(f'Val accuracy: {val_acc}, Val loss: {val_loss}, Val bleu: {val_bleu}')\n",
        "printplot('Train',train_loss,train_acc,train_bleu)\n",
        "print('Train test bleu:')\n",
        "printplot('Train',train_loss,train_acc,train_test_bleu)\n",
        "# printplot('Test',test_loss,test_acc, test_bleu)\n",
        "# printplot('new_test',val_loss,val_acc, val_bleu)\n"
      ],
      "metadata": {
        "colab": {
          "base_uri": "https://localhost:8080/",
          "height": 1000
        },
        "id": "x85II950MTzv",
        "outputId": "ceea1ffb-4803-463f-c739-6bce10e05dc6"
      },
      "execution_count": 48,
      "outputs": [
        {
          "output_type": "stream",
          "name": "stdout",
          "text": [
            "Train accuarcy:72.47749933220096, Train loss:0.018086598214398297,Train bleu:0.8110316689767194\n",
            "Test accuracy: 72.25983885092153, Test loss: 0.040105950087308884, Test bleu: 0.9021290477901307\n",
            "Val accuracy: 43.61857246964416, Val loss: 0.430552214384079, Val bleu: 0.5976806159676685\n"
          ]
        },
        {
          "output_type": "display_data",
          "data": {
            "text/plain": [
              "<Figure size 1200x500 with 3 Axes>"
            ],
            "image/png": "[encoded data removed]"
          },
          "metadata": {}
        },
        {
          "output_type": "stream",
          "name": "stdout",
          "text": [
            "Train test bleu:\n"
          ]
        },
        {
          "output_type": "display_data",
          "data": {
            "text/plain": [
              "<Figure size 1200x500 with 3 Axes>"
            ],
            "image/png": "[encoded data removed]"
          },
          "metadata": {}
        }
      ]
    }
  ],
  "metadata": {
    "kernelspec": {
      "display_name": "Python 3",
      "name": "python3"
    },
    "language_info": {
      "codemirror_mode": {
        "name": "ipython",
        "version": 3
      },
      "file_extension": ".py",
      "mimetype": "text/x-python",
      "name": "python",
      "nbconvert_exporter": "python",
      "pygments_lexer": "ipython3",
      "version": "3.11.5"
    },
    "colab": {
      "provenance": [],
      "machine_shape": "hm",
      "gpuType": "T4"
    },
    "accelerator": "GPU"
  },
  "nbformat": 4,
  "nbformat_minor": 0
}