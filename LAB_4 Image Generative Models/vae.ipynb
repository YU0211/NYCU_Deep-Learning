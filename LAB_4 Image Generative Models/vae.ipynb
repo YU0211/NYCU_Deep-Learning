{
  "cells": [
    {
      "cell_type": "code",
      "execution_count": 1,
      "metadata": {
        "id": "YdldyvnGXdyd"
      },
      "outputs": [],
      "source": [
        "import torch\n",
        "import torchvision\n",
        "import torchvision.datasets as datasets\n",
        "from torch.utils.data import DataLoader\n",
        "import numpy as np\n",
        "from tqdm import tqdm\n",
        "import matplotlib.pyplot as plt\n",
        "\n",
        "from torch import nn\n",
        "from torch.nn import functional as F\n",
        "from torchvision import transforms"
      ]
    },
    {
      "cell_type": "code",
      "execution_count": 2,
      "metadata": {
        "id": "lKOVOEPQXdye",
        "colab": {
          "base_uri": "https://localhost:8080/"
        },
        "outputId": "fd8897c6-a60f-4369-db37-cc5b798256a6"
      },
      "outputs": [
        {
          "output_type": "stream",
          "name": "stdout",
          "text": [
            "Downloading http://yann.lecun.com/exdb/mnist/train-images-idx3-ubyte.gz\n",
            "Downloading http://yann.lecun.com/exdb/mnist/train-images-idx3-ubyte.gz to ./data/MNIST/raw/train-images-idx3-ubyte.gz\n"
          ]
        },
        {
          "output_type": "stream",
          "name": "stderr",
          "text": [
            "100%|██████████| 9912422/9912422 [00:00<00:00, 112835818.20it/s]\n"
          ]
        },
        {
          "output_type": "stream",
          "name": "stdout",
          "text": [
            "Extracting ./data/MNIST/raw/train-images-idx3-ubyte.gz to ./data/MNIST/raw\n",
            "\n",
            "Downloading http://yann.lecun.com/exdb/mnist/train-labels-idx1-ubyte.gz\n",
            "Downloading http://yann.lecun.com/exdb/mnist/train-labels-idx1-ubyte.gz to ./data/MNIST/raw/train-labels-idx1-ubyte.gz\n"
          ]
        },
        {
          "output_type": "stream",
          "name": "stderr",
          "text": [
            "100%|██████████| 28881/28881 [00:00<00:00, 39189807.13it/s]\n"
          ]
        },
        {
          "output_type": "stream",
          "name": "stdout",
          "text": [
            "Extracting ./data/MNIST/raw/train-labels-idx1-ubyte.gz to ./data/MNIST/raw\n",
            "\n",
            "Downloading http://yann.lecun.com/exdb/mnist/t10k-images-idx3-ubyte.gz\n",
            "Downloading http://yann.lecun.com/exdb/mnist/t10k-images-idx3-ubyte.gz to ./data/MNIST/raw/t10k-images-idx3-ubyte.gz\n"
          ]
        },
        {
          "output_type": "stream",
          "name": "stderr",
          "text": [
            "100%|██████████| 1648877/1648877 [00:00<00:00, 28071272.75it/s]\n"
          ]
        },
        {
          "output_type": "stream",
          "name": "stdout",
          "text": [
            "Extracting ./data/MNIST/raw/t10k-images-idx3-ubyte.gz to ./data/MNIST/raw\n",
            "\n",
            "Downloading http://yann.lecun.com/exdb/mnist/t10k-labels-idx1-ubyte.gz\n",
            "Downloading http://yann.lecun.com/exdb/mnist/t10k-labels-idx1-ubyte.gz to ./data/MNIST/raw/t10k-labels-idx1-ubyte.gz\n"
          ]
        },
        {
          "output_type": "stream",
          "name": "stderr",
          "text": [
            "100%|██████████| 4542/4542 [00:00<00:00, 5753708.48it/s]\n"
          ]
        },
        {
          "output_type": "stream",
          "name": "stdout",
          "text": [
            "Extracting ./data/MNIST/raw/t10k-labels-idx1-ubyte.gz to ./data/MNIST/raw\n",
            "\n"
          ]
        }
      ],
      "source": [
        "trainset = torchvision.datasets.MNIST('./data',transform=transforms.ToTensor(),download=True)"
      ]
    },
    {
      "cell_type": "code",
      "execution_count": 3,
      "metadata": {
        "id": "v7WX9O4DXdye"
      },
      "outputs": [],
      "source": [
        "trainloader = torch.utils.data.DataLoader(trainset,batch_size=32,shuffle=True,num_workers=4)"
      ]
    },
    {
      "cell_type": "code",
      "execution_count": 4,
      "metadata": {
        "id": "A7lVjV8sXdyf"
      },
      "outputs": [],
      "source": [
        "class VAE(nn.Module):\n",
        "\n",
        "    def __init__(self, image_size = 28*28, hidden_dim = 128, latent_dim = 64):\n",
        "        super(VAE,self).__init__()\n",
        "        self.encoder = nn.Sequential(\n",
        "            nn.Linear(image_size,hidden_dim),\n",
        "            nn.ReLU()\n",
        "        )\n",
        "\n",
        "        self.fc2 = nn.Linear(hidden_dim,latent_dim)\n",
        "        self.fc3 = nn.Linear(hidden_dim,latent_dim)\n",
        "\n",
        "        self.decoder = nn.Sequential(\n",
        "            nn.Linear(latent_dim,hidden_dim),\n",
        "            nn.ReLU(),\n",
        "            nn.Linear(hidden_dim,image_size)\n",
        "#             nn.Sigmoid()\n",
        "        )\n",
        "\n",
        "    def encode(self,x):\n",
        "        tmp = self.encoder(x)\n",
        "        mu, logsigma = self.fc2(tmp), self.fc3(tmp)\n",
        "        return mu, logsigma\n",
        "\n",
        "    def reparameterize(self, mu, logsigma):\n",
        "        sigma = torch.exp(logsigma/2)\n",
        "        epsilion = torch.normal(mean=0.0,\n",
        "                                std=torch.ones_like(sigma),\n",
        "                                out=torch.Tensor(sigma.size()).cuda())\n",
        "        return mu + epsilion * sigma\n",
        "\n",
        "    def decode(self,x):\n",
        "        tmp = self.decoder(x)\n",
        "        return tmp\n",
        "\n",
        "    def latents(self, x):\n",
        "        x = x.view(-1,784)\n",
        "        mu, logsigma = self.encode(x)\n",
        "        tmp = self.reparameterize(mu,logsigma)\n",
        "        return tmp\n",
        "    def forward(self,x):\n",
        "        x = x.view(-1,784)\n",
        "        mu, logsigma = self.encode(x)\n",
        "        tmp = self.reparameterize(mu,logsigma)\n",
        "        tmp = self.decode(tmp)\n",
        "\n",
        "        return tmp, mu, logsigma"
      ]
    },
    {
      "cell_type": "code",
      "execution_count": 5,
      "metadata": {
        "id": "yKS26WRfXdyf"
      },
      "outputs": [],
      "source": [
        "class customloss(nn.Module):\n",
        "\n",
        "    def __init__(self, kld_weight=1):\n",
        "        super(customloss,self).__init__()\n",
        "        self.kld_weight = kld_weight\n",
        "\n",
        "    def forward(self,x, img_flatten, mu,logsigma):\n",
        "        reconstruct_loss = F.mse_loss(output, img_flatten,reduction='sum')\n",
        "#         reconstruct_loss = F.binary_cross_entropy(output, img_flatten,reduction='sum')\n",
        "        KLD = - 0.5 * torch.sum(1 + logsigma - mu.pow(2) - logsigma.exp())\n",
        "        loss = reconstruct_loss+ self.kld_weight * KLD\n",
        "\n",
        "        return loss"
      ]
    },
    {
      "cell_type": "code",
      "execution_count": 6,
      "metadata": {
        "id": "_R-hNa8aXdyf"
      },
      "outputs": [],
      "source": [
        "model = VAE(hidden_dim=256,latent_dim=64).cuda()"
      ]
    },
    {
      "cell_type": "code",
      "execution_count": 7,
      "metadata": {
        "id": "5wJWE6TJXdyf"
      },
      "outputs": [],
      "source": [
        "criterion = customloss(kld_weight=1)\n",
        "optimizer = torch.optim.Adam(model.parameters(),lr=1e-4)"
      ]
    },
    {
      "cell_type": "code",
      "execution_count": 8,
      "metadata": {
        "id": "bAsY9PXUXdyf"
      },
      "outputs": [],
      "source": [
        "epoches = 50"
      ]
    },
    {
      "cell_type": "code",
      "execution_count": 9,
      "metadata": {
        "colab": {
          "base_uri": "https://localhost:8080/"
        },
        "id": "-y6n99z7Xdyg",
        "outputId": "eea4abe3-a1e8-4172-890e-a076c39294e8"
      },
      "outputs": [
        {
          "output_type": "stream",
          "name": "stderr",
          "text": [
            "100%|██████████| 1875/1875 [00:09<00:00, 195.83it/s]\n"
          ]
        },
        {
          "output_type": "stream",
          "name": "stdout",
          "text": [
            "epoch 1: 0.025675399228930473\n"
          ]
        },
        {
          "output_type": "stream",
          "name": "stderr",
          "text": [
            "100%|██████████| 1875/1875 [00:08<00:00, 231.49it/s]\n"
          ]
        },
        {
          "output_type": "stream",
          "name": "stdout",
          "text": [
            "epoch 2: 0.021491803228855133\n"
          ]
        },
        {
          "output_type": "stream",
          "name": "stderr",
          "text": [
            "100%|██████████| 1875/1875 [00:08<00:00, 230.62it/s]\n"
          ]
        },
        {
          "output_type": "stream",
          "name": "stdout",
          "text": [
            "epoch 3: 0.022385910153388977\n"
          ]
        },
        {
          "output_type": "stream",
          "name": "stderr",
          "text": [
            "100%|██████████| 1875/1875 [00:08<00:00, 225.81it/s]\n"
          ]
        },
        {
          "output_type": "stream",
          "name": "stdout",
          "text": [
            "epoch 4: 0.020943041890859604\n"
          ]
        },
        {
          "output_type": "stream",
          "name": "stderr",
          "text": [
            "100%|██████████| 1875/1875 [00:08<00:00, 219.49it/s]\n"
          ]
        },
        {
          "output_type": "stream",
          "name": "stdout",
          "text": [
            "epoch 5: 0.020470410585403442\n"
          ]
        },
        {
          "output_type": "stream",
          "name": "stderr",
          "text": [
            "100%|██████████| 1875/1875 [00:08<00:00, 229.59it/s]\n"
          ]
        },
        {
          "output_type": "stream",
          "name": "stdout",
          "text": [
            "epoch 6: 0.019783098250627518\n"
          ]
        },
        {
          "output_type": "stream",
          "name": "stderr",
          "text": [
            "100%|██████████| 1875/1875 [00:08<00:00, 224.30it/s]\n"
          ]
        },
        {
          "output_type": "stream",
          "name": "stdout",
          "text": [
            "epoch 7: 0.01964910514652729\n"
          ]
        },
        {
          "output_type": "stream",
          "name": "stderr",
          "text": [
            "100%|██████████| 1875/1875 [00:08<00:00, 228.81it/s]\n"
          ]
        },
        {
          "output_type": "stream",
          "name": "stdout",
          "text": [
            "epoch 8: 0.019801974296569824\n"
          ]
        },
        {
          "output_type": "stream",
          "name": "stderr",
          "text": [
            "100%|██████████| 1875/1875 [00:08<00:00, 224.26it/s]\n"
          ]
        },
        {
          "output_type": "stream",
          "name": "stdout",
          "text": [
            "epoch 9: 0.019214889034628868\n"
          ]
        },
        {
          "output_type": "stream",
          "name": "stderr",
          "text": [
            "100%|██████████| 1875/1875 [00:08<00:00, 222.94it/s]\n"
          ]
        },
        {
          "output_type": "stream",
          "name": "stdout",
          "text": [
            "epoch 10: 0.01877150870859623\n"
          ]
        },
        {
          "output_type": "stream",
          "name": "stderr",
          "text": [
            "100%|██████████| 1875/1875 [00:08<00:00, 224.96it/s]\n"
          ]
        },
        {
          "output_type": "stream",
          "name": "stdout",
          "text": [
            "epoch 11: 0.0189225934445858\n"
          ]
        },
        {
          "output_type": "stream",
          "name": "stderr",
          "text": [
            "100%|██████████| 1875/1875 [00:08<00:00, 224.05it/s]\n"
          ]
        },
        {
          "output_type": "stream",
          "name": "stdout",
          "text": [
            "epoch 12: 0.018837211653590202\n"
          ]
        },
        {
          "output_type": "stream",
          "name": "stderr",
          "text": [
            "100%|██████████| 1875/1875 [00:08<00:00, 227.91it/s]\n"
          ]
        },
        {
          "output_type": "stream",
          "name": "stdout",
          "text": [
            "epoch 13: 0.018328068777918816\n"
          ]
        },
        {
          "output_type": "stream",
          "name": "stderr",
          "text": [
            "100%|██████████| 1875/1875 [00:08<00:00, 228.31it/s]\n"
          ]
        },
        {
          "output_type": "stream",
          "name": "stdout",
          "text": [
            "epoch 14: 0.017203116789460182\n"
          ]
        },
        {
          "output_type": "stream",
          "name": "stderr",
          "text": [
            "100%|██████████| 1875/1875 [00:08<00:00, 224.58it/s]\n"
          ]
        },
        {
          "output_type": "stream",
          "name": "stdout",
          "text": [
            "epoch 15: 0.016568228602409363\n"
          ]
        },
        {
          "output_type": "stream",
          "name": "stderr",
          "text": [
            "100%|██████████| 1875/1875 [00:08<00:00, 221.22it/s]\n"
          ]
        },
        {
          "output_type": "stream",
          "name": "stdout",
          "text": [
            "epoch 16: 0.017659306526184082\n"
          ]
        },
        {
          "output_type": "stream",
          "name": "stderr",
          "text": [
            "100%|██████████| 1875/1875 [00:08<00:00, 228.50it/s]\n"
          ]
        },
        {
          "output_type": "stream",
          "name": "stdout",
          "text": [
            "epoch 17: 0.019104061648249626\n"
          ]
        },
        {
          "output_type": "stream",
          "name": "stderr",
          "text": [
            "100%|██████████| 1875/1875 [00:08<00:00, 225.43it/s]\n"
          ]
        },
        {
          "output_type": "stream",
          "name": "stdout",
          "text": [
            "epoch 18: 0.019291190430521965\n"
          ]
        },
        {
          "output_type": "stream",
          "name": "stderr",
          "text": [
            "100%|██████████| 1875/1875 [00:08<00:00, 223.59it/s]\n"
          ]
        },
        {
          "output_type": "stream",
          "name": "stdout",
          "text": [
            "epoch 19: 0.017240284010767937\n"
          ]
        },
        {
          "output_type": "stream",
          "name": "stderr",
          "text": [
            "100%|██████████| 1875/1875 [00:08<00:00, 226.39it/s]\n"
          ]
        },
        {
          "output_type": "stream",
          "name": "stdout",
          "text": [
            "epoch 20: 0.01688556559383869\n"
          ]
        },
        {
          "output_type": "stream",
          "name": "stderr",
          "text": [
            "100%|██████████| 1875/1875 [00:08<00:00, 227.47it/s]\n"
          ]
        },
        {
          "output_type": "stream",
          "name": "stdout",
          "text": [
            "epoch 21: 0.02010689675807953\n"
          ]
        },
        {
          "output_type": "stream",
          "name": "stderr",
          "text": [
            "100%|██████████| 1875/1875 [00:08<00:00, 223.04it/s]\n"
          ]
        },
        {
          "output_type": "stream",
          "name": "stdout",
          "text": [
            "epoch 22: 0.016706081107258797\n"
          ]
        },
        {
          "output_type": "stream",
          "name": "stderr",
          "text": [
            "100%|██████████| 1875/1875 [00:08<00:00, 225.12it/s]\n"
          ]
        },
        {
          "output_type": "stream",
          "name": "stdout",
          "text": [
            "epoch 23: 0.01673745922744274\n"
          ]
        },
        {
          "output_type": "stream",
          "name": "stderr",
          "text": [
            "100%|██████████| 1875/1875 [00:08<00:00, 225.72it/s]\n"
          ]
        },
        {
          "output_type": "stream",
          "name": "stdout",
          "text": [
            "epoch 24: 0.018930695950984955\n"
          ]
        },
        {
          "output_type": "stream",
          "name": "stderr",
          "text": [
            "100%|██████████| 1875/1875 [00:08<00:00, 225.82it/s]\n"
          ]
        },
        {
          "output_type": "stream",
          "name": "stdout",
          "text": [
            "epoch 25: 0.018775466829538345\n"
          ]
        },
        {
          "output_type": "stream",
          "name": "stderr",
          "text": [
            "100%|██████████| 1875/1875 [00:08<00:00, 223.04it/s]\n"
          ]
        },
        {
          "output_type": "stream",
          "name": "stdout",
          "text": [
            "epoch 26: 0.017827600240707397\n"
          ]
        },
        {
          "output_type": "stream",
          "name": "stderr",
          "text": [
            "100%|██████████| 1875/1875 [00:08<00:00, 223.87it/s]\n"
          ]
        },
        {
          "output_type": "stream",
          "name": "stdout",
          "text": [
            "epoch 27: 0.018448950722813606\n"
          ]
        },
        {
          "output_type": "stream",
          "name": "stderr",
          "text": [
            "100%|██████████| 1875/1875 [00:08<00:00, 226.87it/s]\n"
          ]
        },
        {
          "output_type": "stream",
          "name": "stdout",
          "text": [
            "epoch 28: 0.01587163843214512\n"
          ]
        },
        {
          "output_type": "stream",
          "name": "stderr",
          "text": [
            "100%|██████████| 1875/1875 [00:08<00:00, 225.11it/s]\n"
          ]
        },
        {
          "output_type": "stream",
          "name": "stdout",
          "text": [
            "epoch 29: 0.018669117242097855\n"
          ]
        },
        {
          "output_type": "stream",
          "name": "stderr",
          "text": [
            "100%|██████████| 1875/1875 [00:08<00:00, 219.55it/s]\n"
          ]
        },
        {
          "output_type": "stream",
          "name": "stdout",
          "text": [
            "epoch 30: 0.015682509168982506\n"
          ]
        },
        {
          "output_type": "stream",
          "name": "stderr",
          "text": [
            "100%|██████████| 1875/1875 [00:08<00:00, 219.44it/s]\n"
          ]
        },
        {
          "output_type": "stream",
          "name": "stdout",
          "text": [
            "epoch 31: 0.01725485920906067\n"
          ]
        },
        {
          "output_type": "stream",
          "name": "stderr",
          "text": [
            "100%|██████████| 1875/1875 [00:08<00:00, 225.00it/s]\n"
          ]
        },
        {
          "output_type": "stream",
          "name": "stdout",
          "text": [
            "epoch 32: 0.01569630578160286\n"
          ]
        },
        {
          "output_type": "stream",
          "name": "stderr",
          "text": [
            "100%|██████████| 1875/1875 [00:08<00:00, 226.75it/s]\n"
          ]
        },
        {
          "output_type": "stream",
          "name": "stdout",
          "text": [
            "epoch 33: 0.016569936648011208\n"
          ]
        },
        {
          "output_type": "stream",
          "name": "stderr",
          "text": [
            "100%|██████████| 1875/1875 [00:08<00:00, 222.38it/s]\n"
          ]
        },
        {
          "output_type": "stream",
          "name": "stdout",
          "text": [
            "epoch 34: 0.01729048602283001\n"
          ]
        },
        {
          "output_type": "stream",
          "name": "stderr",
          "text": [
            "100%|██████████| 1875/1875 [00:08<00:00, 229.54it/s]\n"
          ]
        },
        {
          "output_type": "stream",
          "name": "stdout",
          "text": [
            "epoch 35: 0.01841464824974537\n"
          ]
        },
        {
          "output_type": "stream",
          "name": "stderr",
          "text": [
            "100%|██████████| 1875/1875 [00:08<00:00, 226.11it/s]\n"
          ]
        },
        {
          "output_type": "stream",
          "name": "stdout",
          "text": [
            "epoch 36: 0.016279537230730057\n"
          ]
        },
        {
          "output_type": "stream",
          "name": "stderr",
          "text": [
            "100%|██████████| 1875/1875 [00:08<00:00, 223.42it/s]\n"
          ]
        },
        {
          "output_type": "stream",
          "name": "stdout",
          "text": [
            "epoch 37: 0.01751268282532692\n"
          ]
        },
        {
          "output_type": "stream",
          "name": "stderr",
          "text": [
            "100%|██████████| 1875/1875 [00:08<00:00, 219.48it/s]\n"
          ]
        },
        {
          "output_type": "stream",
          "name": "stdout",
          "text": [
            "epoch 38: 0.018073055893182755\n"
          ]
        },
        {
          "output_type": "stream",
          "name": "stderr",
          "text": [
            "100%|██████████| 1875/1875 [00:08<00:00, 216.84it/s]\n"
          ]
        },
        {
          "output_type": "stream",
          "name": "stdout",
          "text": [
            "epoch 39: 0.01692591980099678\n"
          ]
        },
        {
          "output_type": "stream",
          "name": "stderr",
          "text": [
            "100%|██████████| 1875/1875 [00:08<00:00, 220.48it/s]\n"
          ]
        },
        {
          "output_type": "stream",
          "name": "stdout",
          "text": [
            "epoch 40: 0.017921265214681625\n"
          ]
        },
        {
          "output_type": "stream",
          "name": "stderr",
          "text": [
            "100%|██████████| 1875/1875 [00:08<00:00, 219.93it/s]\n"
          ]
        },
        {
          "output_type": "stream",
          "name": "stdout",
          "text": [
            "epoch 41: 0.01838020794093609\n"
          ]
        },
        {
          "output_type": "stream",
          "name": "stderr",
          "text": [
            "100%|██████████| 1875/1875 [00:08<00:00, 215.64it/s]\n"
          ]
        },
        {
          "output_type": "stream",
          "name": "stdout",
          "text": [
            "epoch 42: 0.016060004010796547\n"
          ]
        },
        {
          "output_type": "stream",
          "name": "stderr",
          "text": [
            "100%|██████████| 1875/1875 [00:08<00:00, 220.77it/s]\n"
          ]
        },
        {
          "output_type": "stream",
          "name": "stdout",
          "text": [
            "epoch 43: 0.01603066362440586\n"
          ]
        },
        {
          "output_type": "stream",
          "name": "stderr",
          "text": [
            "100%|██████████| 1875/1875 [00:08<00:00, 220.70it/s]\n"
          ]
        },
        {
          "output_type": "stream",
          "name": "stdout",
          "text": [
            "epoch 44: 0.016628390178084373\n"
          ]
        },
        {
          "output_type": "stream",
          "name": "stderr",
          "text": [
            "100%|██████████| 1875/1875 [00:08<00:00, 218.66it/s]\n"
          ]
        },
        {
          "output_type": "stream",
          "name": "stdout",
          "text": [
            "epoch 45: 0.01664705201983452\n"
          ]
        },
        {
          "output_type": "stream",
          "name": "stderr",
          "text": [
            "100%|██████████| 1875/1875 [00:09<00:00, 199.72it/s]\n"
          ]
        },
        {
          "output_type": "stream",
          "name": "stdout",
          "text": [
            "epoch 46: 0.015496497042477131\n"
          ]
        },
        {
          "output_type": "stream",
          "name": "stderr",
          "text": [
            "100%|██████████| 1875/1875 [00:09<00:00, 200.90it/s]\n"
          ]
        },
        {
          "output_type": "stream",
          "name": "stdout",
          "text": [
            "epoch 47: 0.016924617812037468\n"
          ]
        },
        {
          "output_type": "stream",
          "name": "stderr",
          "text": [
            "100%|██████████| 1875/1875 [00:09<00:00, 197.80it/s]\n"
          ]
        },
        {
          "output_type": "stream",
          "name": "stdout",
          "text": [
            "epoch 48: 0.017157163470983505\n"
          ]
        },
        {
          "output_type": "stream",
          "name": "stderr",
          "text": [
            "100%|██████████| 1875/1875 [00:08<00:00, 220.46it/s]\n"
          ]
        },
        {
          "output_type": "stream",
          "name": "stdout",
          "text": [
            "epoch 49: 0.017146751284599304\n"
          ]
        },
        {
          "output_type": "stream",
          "name": "stderr",
          "text": [
            "100%|██████████| 1875/1875 [00:08<00:00, 213.38it/s]"
          ]
        },
        {
          "output_type": "stream",
          "name": "stdout",
          "text": [
            "epoch 50: 0.01682991161942482\n"
          ]
        },
        {
          "output_type": "stream",
          "name": "stderr",
          "text": [
            "\n"
          ]
        }
      ],
      "source": [
        "training_loss = []\n",
        "\n",
        "model.train()\n",
        "for epoch in range(epoches):\n",
        "    for data in tqdm(trainloader):\n",
        "\n",
        "        img, label = data\n",
        "        img = img.cuda()\n",
        "\n",
        "        img_flatten = img.view(-1,784)\n",
        "\n",
        "        output, mu, logsigma = model(img)\n",
        "\n",
        "        optimizer.zero_grad()\n",
        "        loss = criterion(output, img_flatten, mu, logsigma)\n",
        "        loss.backward()\n",
        "        optimizer.step()\n",
        "\n",
        "        img = img.detach().cpu()\n",
        "\n",
        "    print(f'epoch {epoch+1}: {loss/len(trainset)}')\n",
        "    current_loss = loss.detach().cpu().item() / len(trainset)\n",
        "    training_loss.append(current_loss)"
      ]
    },
    {
      "cell_type": "code",
      "source": [
        "for i in training_loss:\n",
        "  print(i)"
      ],
      "metadata": {
        "colab": {
          "base_uri": "https://localhost:8080/"
        },
        "id": "O3ZFinnFZkiX",
        "outputId": "57f815ce-36e9-4a38-b371-4f4ee590be0f"
      },
      "execution_count": 10,
      "outputs": [
        {
          "output_type": "stream",
          "name": "stdout",
          "text": [
            "0.025675398763020833\n",
            "0.021491802978515624\n",
            "0.022385909016927084\n",
            "0.0209430419921875\n",
            "0.02047041015625\n",
            "0.019783097330729166\n",
            "0.019649104817708332\n",
            "0.019801973470052085\n",
            "0.019214888509114583\n",
            "0.0187715087890625\n",
            "0.01892259318033854\n",
            "0.018837211100260418\n",
            "0.018328068033854165\n",
            "0.017203116861979166\n",
            "0.016568229166666667\n",
            "0.017659305826822916\n",
            "0.019104060872395832\n",
            "0.019291190592447917\n",
            "0.017240283203125\n",
            "0.016885565185546875\n",
            "0.02010689697265625\n",
            "0.016706081136067707\n",
            "0.01673745829264323\n",
            "0.018930696614583332\n",
            "0.018775465901692708\n",
            "0.01782760009765625\n",
            "0.0184489501953125\n",
            "0.015871637980143228\n",
            "0.0186691162109375\n",
            "0.015682509358723958\n",
            "0.0172548583984375\n",
            "0.015696305338541668\n",
            "0.016569937133789063\n",
            "0.017290486653645833\n",
            "0.0184146484375\n",
            "0.016279536946614583\n",
            "0.01751268310546875\n",
            "0.018073055013020832\n",
            "0.016925919596354165\n",
            "0.0179212646484375\n",
            "0.01838020833333333\n",
            "0.016060003662109374\n",
            "0.016030663045247397\n",
            "0.016628390502929687\n",
            "0.016647052001953124\n",
            "0.01549649658203125\n",
            "0.016924617513020834\n",
            "0.01715716349283854\n",
            "0.01714675089518229\n",
            "0.01682991231282552\n"
          ]
        }
      ]
    },
    {
      "cell_type": "code",
      "execution_count": 11,
      "metadata": {
        "colab": {
          "base_uri": "https://localhost:8080/",
          "height": 447
        },
        "id": "dFcoTscNXdyg",
        "outputId": "55c80f5f-ce5b-4f6b-9e12-3b07fbcab3bf"
      },
      "outputs": [
        {
          "output_type": "execute_result",
          "data": {
            "text/plain": [
              "[<matplotlib.lines.Line2D at 0x7e974002e950>]"
            ]
          },
          "metadata": {},
          "execution_count": 11
        },
        {
          "output_type": "display_data",
          "data": {
            "text/plain": [
              "<Figure size 640x480 with 1 Axes>"
            ],
            "image/png": "[encoded data removed]"
          },
          "metadata": {}
        }
      ],
      "source": [
        "plt.plot(training_loss)"
      ]
    },
    {
      "cell_type": "code",
      "execution_count": 12,
      "metadata": {
        "colab": {
          "base_uri": "https://localhost:8080/",
          "height": 433
        },
        "id": "R25LNnINXdyg",
        "outputId": "ecf6acc3-7775-4afb-a452-3bac5caa9e7f"
      },
      "outputs": [
        {
          "output_type": "display_data",
          "data": {
            "text/plain": [
              "<Figure size 640x480 with 9 Axes>"
            ],
            "image/png": "[encoded data removed]"
          },
          "metadata": {}
        }
      ],
      "source": [
        "for i in range(3):\n",
        "    for j in range(3):\n",
        "        model.eval()\n",
        "        with torch.no_grad():\n",
        "            seeds = np.random.normal(0,1,(1,64))\n",
        "            seeds = torch.from_numpy(seeds).float().cuda()\n",
        "\n",
        "            output = model.decode(seeds)\n",
        "            output = output.view(28,28)\n",
        "\n",
        "            plt.subplot(3,3,i*3+j+1)\n",
        "            plt.imshow(output.detach().cpu().numpy(),cmap='gray')"
      ]
    },
    {
      "cell_type": "code",
      "source": [
        "images = datasets.MNIST(root='./data', train=False, download=True, transform=transforms.ToTensor())\n",
        "dataloader = DataLoader(images, batch_size=4)\n",
        "latent_dim = 64\n",
        "\n",
        "def interpolate(latent_1, latent_2, num_steps):\n",
        "   return [(1 - alpha) * latent_1 + alpha * latent_2 for alpha in np.linspace(0, 1, num_steps)]\n",
        "# Sample four random images\n",
        "model.cuda()\n",
        "random_indices = torch.randint(len(trainloader.dataset), size=(4,))\n",
        "sample_images = [trainloader.dataset[i][0] for i in random_indices]\n",
        "\n",
        "sample_latents = [model.latents(img.cuda().view(-1, 784)).detach() for img in sample_images]\n",
        "\n",
        "\n",
        "interpolated_latents = []\n",
        "print(len(sample_latents))\n",
        "sample_latents.append(sample_latents[0])\n",
        "#4 corner\n",
        "# Interpolate horizontally (top and bottom rows of the grid)\n",
        "top_row = interpolate(sample_latents[0], sample_latents[1], 8)\n",
        "bottom_row = interpolate(sample_latents[2], sample_latents[3], 8)\n",
        "\n",
        "# Interpolate vertically (left and right columns of the grid)\n",
        "left_col = interpolate(sample_latents[0], sample_latents[2], 8)\n",
        "right_col = interpolate(sample_latents[1], sample_latents[3], 8)\n",
        "\n",
        "interpolated_images = [[None for _ in range(8)] for _ in range(8)]\n",
        "\n",
        "# Fill the corners\n",
        "interpolated_images[0][0] = model.decoder(sample_latents[0]).cpu().view(28, 28)\n",
        "interpolated_images[0][7] = model.decoder(sample_latents[1]).cpu().view(28, 28)\n",
        "interpolated_images[7][0] = model.decoder(sample_latents[2]).cpu().view(28, 28)\n",
        "interpolated_images[7][7] = model.decoder(sample_latents[3]).cpu().view(28, 28)\n",
        "\n",
        "# Fill top and bottom rows\n",
        "for i in range(1, 7):\n",
        "    interpolated_images[0][i] = model.decoder(top_row[i]).cpu().view(28, 28)\n",
        "    interpolated_images[7][i] = model.decoder(bottom_row[i]).cpu().view(28, 28)\n",
        "\n",
        "# Fill left and right columns\n",
        "for i in range(1, 7):\n",
        "    interpolated_images[i][0] = model.decoder(left_col[i]).cpu().view(28, 28)\n",
        "    interpolated_images[i][7] = model.decoder(right_col[i]).cpu().view(28, 28)\n",
        "\n",
        "# Fill the rest of the grid by interpolating between corresponding points in the left and right columns\n",
        "for i in range(1, 7):\n",
        "    row_interpolation = interpolate(left_col[i], right_col[i], 8)\n",
        "    for j in range(1, 7):\n",
        "        interpolated_images[i][j] = model.decoder(row_interpolation[j]).cpu().view(28, 28)\n",
        "# Plot the grid\n",
        "fig, axes = plt.subplots(8, 8, figsize=(5, 5))\n",
        "for i in range(8):\n",
        "    for j in range(8):\n",
        "        ax = axes[i][j]\n",
        "        ax.imshow(interpolated_images[i][j].detach().numpy(), cmap='gray')\n",
        "        ax.axis('off')\n",
        "# for i in range(len(sample_latents) ):\n",
        "#     for j in range(i+1, len(sample_latents)):\n",
        "#         interpolated_latents.extend(interpolate(sample_latents[i], sample_latents[j], 8))\n",
        "\n",
        "# interpolated_images = [model.decoder(latent).cpu().view(28, 28) for latent in interpolated_latents]\n",
        "# fig, axes = plt.subplots(8, 8, figsize=(8, 8))\n",
        "# for i, ax in enumerate(axes.flat):\n",
        "#     ax.imshow(interpolated_images[i].detach().numpy(), cmap='gray')\n",
        "#     ax.axis('off')\n",
        "plt.show()\n"
      ],
      "metadata": {
        "colab": {
          "base_uri": "https://localhost:8080/",
          "height": 439
        },
        "id": "Ug8SBKArbS7t",
        "outputId": "41d681a9-209b-4f3d-d0e5-18e557e930ac"
      },
      "execution_count": 13,
      "outputs": [
        {
          "output_type": "stream",
          "name": "stdout",
          "text": [
            "4\n"
          ]
        },
        {
          "output_type": "display_data",
          "data": {
            "text/plain": [
              "<Figure size 500x500 with 64 Axes>"
            ],
            "image/png": "[encoded data removed]"
          },
          "metadata": {}
        }
      ]
    },
    {
      "cell_type": "code",
      "execution_count": 14,
      "metadata": {
        "id": "ntnLFS5VXdyg"
      },
      "outputs": [],
      "source": [
        "torch.save(model.state_dict(),'vae.pth')"
      ]
    }
  ],
  "metadata": {
    "kernelspec": {
      "display_name": "Python 3",
      "name": "python3"
    },
    "language_info": {
      "codemirror_mode": {
        "name": "ipython",
        "version": 3
      },
      "file_extension": ".py",
      "mimetype": "text/x-python",
      "name": "python",
      "nbconvert_exporter": "python",
      "pygments_lexer": "ipython3",
      "version": "3.11.5"
    },
    "colab": {
      "provenance": [],
      "machine_shape": "hm",
      "gpuType": "T4"
    },
    "accelerator": "GPU"
  },
  "nbformat": 4,
  "nbformat_minor": 0
}